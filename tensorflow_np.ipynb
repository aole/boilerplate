{
 "cells": [
  {
   "cell_type": "code",
   "execution_count": 45,
   "metadata": {},
   "outputs": [],
   "source": [
    "import tensorflow as tf\n",
    "import pandas as pd\n",
    "import numpy as np\n",
    "import sys"
   ]
  },
  {
   "cell_type": "code",
   "execution_count": 80,
   "metadata": {},
   "outputs": [
    {
     "name": "stdout",
     "output_type": "stream",
     "text": [
      "Python version 3.5.4 |Continuum Analytics, Inc.| (default, Aug 14 2017, 13:41:13) [MSC v.1900 64 bit (AMD64)]\n",
      "Tensorflow version 1.5.0-dev20171117\n"
     ]
    }
   ],
   "source": [
    "print('Python version ' + sys.version)\n",
    "print('Tensorflow version ' + tf.VERSION)"
   ]
  },
  {
   "cell_type": "markdown",
   "metadata": {},
   "source": [
    "<h1>TensorFlow</h1>"
   ]
  },
  {
   "cell_type": "markdown",
   "metadata": {},
   "source": [
    "TensorFlow(TF) is an awesome machine learning library, but you can consider it as a library to run operations (like addition, subraction etc). The only differece is TF creates a graph of all the operations suplied and runs them in batch. Efficiency becomes very critical especially in case of Neural Networks(NN) as they are required to run several mathematical operations.<BR><BR>\n",
    "Let's see how these operations/graph can be built and executed in TF. We'll then build upon these concepts to create a simple NN."
   ]
  },
  {
   "cell_type": "markdown",
   "metadata": {},
   "source": [
    "<h2>Constants</h2>"
   ]
  },
  {
   "cell_type": "code",
   "execution_count": 85,
   "metadata": {
    "collapsed": true
   },
   "outputs": [],
   "source": [
    "# values do not change.\n",
    "a = tf.constant(4.)\n",
    "b = tf.constant(7.)"
   ]
  },
  {
   "cell_type": "markdown",
   "metadata": {},
   "source": [
    "<h2>Basic Operations</h2>"
   ]
  },
  {
   "cell_type": "code",
   "execution_count": 86,
   "metadata": {
    "collapsed": true
   },
   "outputs": [],
   "source": [
    "# Create some operation based on the constants.\n",
    "c = a * b # = 4 * 7\n",
    "\n",
    "# these operations then can be nested on top of each other.\n",
    "d = c + b\n",
    "e = tf.subtract( d, a ) # another way of creating operations"
   ]
  },
  {
   "cell_type": "markdown",
   "metadata": {},
   "source": [
    "<H2>Running Graphs</H2>"
   ]
  },
  {
   "cell_type": "code",
   "execution_count": 87,
   "metadata": {},
   "outputs": [
    {
     "name": "stdout",
     "output_type": "stream",
     "text": [
      "35.0\n",
      "31.0\n"
     ]
    }
   ],
   "source": [
    "# TF creates a graph structure of the operations.\n",
    "# To get the output of all the operations, the last operation is run\n",
    "# using a TF session\n",
    "with tf.Session() as sess:\n",
    "    print( sess.run( d ) )\n",
    "    print( e.eval() ) # alternative way to run"
   ]
  },
  {
   "cell_type": "markdown",
   "metadata": {},
   "source": [
    "<h2>Placeholders</h2>"
   ]
  },
  {
   "cell_type": "code",
   "execution_count": 18,
   "metadata": {
    "collapsed": true
   },
   "outputs": [],
   "source": [
    "# values for placeholders are provided at run time\n",
    "p = tf.placeholder( tf.float32 )"
   ]
  },
  {
   "cell_type": "code",
   "execution_count": 23,
   "metadata": {},
   "outputs": [],
   "source": [
    "r = p + a + b"
   ]
  },
  {
   "cell_type": "markdown",
   "metadata": {},
   "source": [
    "<h4>Interactive Session</h4>"
   ]
  },
  {
   "cell_type": "code",
   "execution_count": 92,
   "metadata": {
    "collapsed": true
   },
   "outputs": [],
   "source": [
    "# use interactive session for notebooks\n",
    "sess = tf.InteractiveSession()"
   ]
  },
  {
   "cell_type": "code",
   "execution_count": 93,
   "metadata": {},
   "outputs": [
    {
     "name": "stdout",
     "output_type": "stream",
     "text": [
      "14.0\n"
     ]
    }
   ],
   "source": [
    "# placeholder values are passed as disctionary object to the run function.\n",
    "print( sess.run( r, feed_dict={p:3}) )"
   ]
  },
  {
   "cell_type": "code",
   "execution_count": 94,
   "metadata": {},
   "outputs": [
    {
     "name": "stdout",
     "output_type": "stream",
     "text": [
      "[ 14.  15.  16.  17.  18.]\n"
     ]
    }
   ],
   "source": [
    "# a set of values can be provided, the graph will run for each element in the set.\n",
    "print( sess.run( r, feed_dict={p:[3,4,5,6,7]}))"
   ]
  },
  {
   "cell_type": "markdown",
   "metadata": {},
   "source": [
    "<h4>Pandas</h4>"
   ]
  },
  {
   "cell_type": "code",
   "execution_count": 98,
   "metadata": {},
   "outputs": [
    {
     "data": {
      "text/html": [
       "<div>\n",
       "<style>\n",
       "    .dataframe thead tr:only-child th {\n",
       "        text-align: right;\n",
       "    }\n",
       "\n",
       "    .dataframe thead th {\n",
       "        text-align: left;\n",
       "    }\n",
       "\n",
       "    .dataframe tbody tr th {\n",
       "        vertical-align: top;\n",
       "    }\n",
       "</style>\n",
       "<table border=\"1\" class=\"dataframe\">\n",
       "  <thead>\n",
       "    <tr style=\"text-align: right;\">\n",
       "      <th></th>\n",
       "      <th>a</th>\n",
       "      <th>y</th>\n",
       "    </tr>\n",
       "  </thead>\n",
       "  <tbody>\n",
       "    <tr>\n",
       "      <th>0</th>\n",
       "      <td>0</td>\n",
       "      <td>1</td>\n",
       "    </tr>\n",
       "    <tr>\n",
       "      <th>1</th>\n",
       "      <td>1</td>\n",
       "      <td>0</td>\n",
       "    </tr>\n",
       "  </tbody>\n",
       "</table>\n",
       "</div>"
      ],
      "text/plain": [
       "   a  y\n",
       "0  0  1\n",
       "1  1  0"
      ]
     },
     "execution_count": 98,
     "metadata": {},
     "output_type": "execute_result"
    }
   ],
   "source": [
    "# Passing data using pandas\n",
    "# let create a logical NOT operation truth table\n",
    "df = pd.DataFrame({'a':[0,1],\n",
    "                   'y':[1,0]})\n",
    "# or pd.read_csv( 'somefile.csv' )\n",
    "df"
   ]
  },
  {
   "cell_type": "code",
   "execution_count": 96,
   "metadata": {},
   "outputs": [],
   "source": [
    "# create a logical NOT graph in Tensorflow\n",
    "a = tf.placeholder( tf.bool )\n",
    "op_and = tf.logical_not( a )\n",
    "res = tf.to_int32( op_and ) # convert to int for proper display"
   ]
  },
  {
   "cell_type": "code",
   "execution_count": 97,
   "metadata": {},
   "outputs": [
    {
     "name": "stdout",
     "output_type": "stream",
     "text": [
      "[1 0]\n"
     ]
    }
   ],
   "source": [
    "# pass dataframe columns to the feed dictionary\n",
    "print( sess.run( res, feed_dict={a:df.a} ) )"
   ]
  },
  {
   "cell_type": "markdown",
   "metadata": {},
   "source": [
    "<h2>Training Neural Network</h2>"
   ]
  },
  {
   "cell_type": "code",
   "execution_count": 42,
   "metadata": {},
   "outputs": [
    {
     "data": {
      "text/html": [
       "<div>\n",
       "<style>\n",
       "    .dataframe thead tr:only-child th {\n",
       "        text-align: right;\n",
       "    }\n",
       "\n",
       "    .dataframe thead th {\n",
       "        text-align: left;\n",
       "    }\n",
       "\n",
       "    .dataframe tbody tr th {\n",
       "        vertical-align: top;\n",
       "    }\n",
       "</style>\n",
       "<table border=\"1\" class=\"dataframe\">\n",
       "  <thead>\n",
       "    <tr style=\"text-align: right;\">\n",
       "      <th></th>\n",
       "      <th>a</th>\n",
       "      <th>y</th>\n",
       "    </tr>\n",
       "  </thead>\n",
       "  <tbody>\n",
       "    <tr>\n",
       "      <th>0</th>\n",
       "      <td>0</td>\n",
       "      <td>1</td>\n",
       "    </tr>\n",
       "    <tr>\n",
       "      <th>1</th>\n",
       "      <td>1</td>\n",
       "      <td>0</td>\n",
       "    </tr>\n",
       "  </tbody>\n",
       "</table>\n",
       "</div>"
      ],
      "text/plain": [
       "   a  y\n",
       "0  0  1\n",
       "1  1  0"
      ]
     },
     "execution_count": 42,
     "metadata": {},
     "output_type": "execute_result"
    }
   ],
   "source": [
    "# We'll create a neural network to a\n",
    "# NOT operation\n",
    "# simplest dataset possible\n",
    "df = pd.DataFrame({'a':[0,1],\n",
    "                   'y':[1,0]})\n",
    "df"
   ]
  },
  {
   "cell_type": "markdown",
   "metadata": {},
   "source": [
    "<h4>Inputs</h4>"
   ]
  },
  {
   "cell_type": "code",
   "execution_count": 43,
   "metadata": {
    "collapsed": true
   },
   "outputs": [],
   "source": [
    "# We only have a single input to the network\n",
    "a = tf.placeholder( tf.float32 ) # keep as float so that no conversion is required."
   ]
  },
  {
   "cell_type": "markdown",
   "metadata": {},
   "source": [
    "<h4>Variables</h4>"
   ]
  },
  {
   "cell_type": "code",
   "execution_count": 61,
   "metadata": {},
   "outputs": [],
   "source": [
    "# Variables are the values that the network will adjust to fit the model\n",
    "w = tf.Variable( np.random.rand() )\n",
    "b = tf.Variable( np.random.rand() )"
   ]
  },
  {
   "cell_type": "code",
   "execution_count": 62,
   "metadata": {
    "collapsed": true
   },
   "outputs": [],
   "source": [
    "# create a simple graph, predicting y\n",
    "y_pred = w * a + b"
   ]
  },
  {
   "cell_type": "code",
   "execution_count": 63,
   "metadata": {},
   "outputs": [],
   "source": [
    "# Variables need to be initialized before the network is run\n",
    "sess.run( tf.global_variables_initializer() )"
   ]
  },
  {
   "cell_type": "code",
   "execution_count": 74,
   "metadata": {},
   "outputs": [
    {
     "name": "stdout",
     "output_type": "stream",
     "text": [
      "Predicted Y value: [ 0.40064803  1.17234612]\n",
      "Actual Y value: [1 0]\n"
     ]
    }
   ],
   "source": [
    "print( 'Predicted Y value:', sess.run( y_pred, feed_dict={a:df.a} ) )\n",
    "print( 'Actual Y value:', df.y.values )"
   ]
  },
  {
   "cell_type": "markdown",
   "metadata": {},
   "source": [
    "<h4>Loss</h4>"
   ]
  },
  {
   "cell_type": "code",
   "execution_count": 65,
   "metadata": {},
   "outputs": [],
   "source": [
    "# ofcourse the values are off. We need to train the network by comparing the predicted values to actual values\n",
    "# we need a loss function\n",
    "y = tf.placeholder( tf.float32 ) # actual values for comparison\n",
    "\n",
    "loss = tf.reduce_mean(tf.square(y_pred - y))"
   ]
  },
  {
   "cell_type": "markdown",
   "metadata": {},
   "source": [
    "<h4>Reducing Loss</h4>"
   ]
  },
  {
   "cell_type": "code",
   "execution_count": 66,
   "metadata": {
    "collapsed": true
   },
   "outputs": [],
   "source": [
    "# Main aim of the network is to reduce the loss to as low as possible (converging to 0)\n",
    "# Gradient descent is a popular way to reduce loss\n",
    "# We also provide a learning rate to the network (how slowly/rapidly it should learn)\n",
    "optimizer = tf.train.GradientDescentOptimizer(0.5)\n",
    "train = optimizer.minimize( loss )"
   ]
  },
  {
   "cell_type": "markdown",
   "metadata": {},
   "source": [
    "<h4>Training</h4>"
   ]
  },
  {
   "cell_type": "code",
   "execution_count": 79,
   "metadata": {},
   "outputs": [
    {
     "name": "stdout",
     "output_type": "stream",
     "text": [
      "Prediction: [ 0.40064803  1.17234612]\n",
      "Prediction: [ 0.11415097  0.29967597]\n",
      "Prediction: [ 0.4072375  0.4429245]\n",
      "Prediction: [ 0.48215649  0.29638124]\n",
      "Prediction: [ 0.59288764  0.2589218 ]\n",
      "Prediction: [ 0.66698289  0.20355615]\n",
      "Prediction: [ 0.73171335  0.16650856]\n",
      "Prediction: [ 0.78260243  0.13414335]\n",
      "Prediction: [ 0.82422954  0.10869879]\n",
      "Prediction: [ 0.85776538  0.0878852 ]\n"
     ]
    }
   ],
   "source": [
    "# Lets train the network 10 times on the same data and see if we can come close to the real value\n",
    "sess.run( tf.global_variables_initializer() )\n",
    "for step in range( 10 ):\n",
    "    train_data = {a:df.a, y: df.y}\n",
    "    # You can run more than one graph nodes\n",
    "    pred, _ = sess.run( [y_pred, train], feed_dict=train_data )\n",
    "    print( 'Prediction:', pred)    "
   ]
  },
  {
   "cell_type": "code",
   "execution_count": null,
   "metadata": {
    "collapsed": true
   },
   "outputs": [],
   "source": [
    "# We are definitely converging towards the actual values(y) in our dataset.\n",
    "# With enough training the predictions will be real darn close."
   ]
  }
 ],
 "metadata": {
  "kernelspec": {
   "display_name": "Python 3",
   "language": "python",
   "name": "python3"
  },
  "language_info": {
   "codemirror_mode": {
    "name": "ipython",
    "version": 3
   },
   "file_extension": ".py",
   "mimetype": "text/x-python",
   "name": "python",
   "nbconvert_exporter": "python",
   "pygments_lexer": "ipython3",
   "version": "3.5.4"
  }
 },
 "nbformat": 4,
 "nbformat_minor": 2
}
