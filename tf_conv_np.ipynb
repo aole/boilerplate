{
 "cells": [
  {
   "cell_type": "code",
   "execution_count": 1,
   "metadata": {
    "collapsed": true
   },
   "outputs": [],
   "source": [
    "import numpy as np\n",
    "import tensorflow as tf\n",
    "from tensorflow.examples.tutorials.mnist import input_data\n",
    "import matplotlib.pyplot as plt\n",
    "%matplotlib inline"
   ]
  },
  {
   "cell_type": "code",
   "execution_count": 2,
   "metadata": {},
   "outputs": [
    {
     "name": "stdout",
     "output_type": "stream",
     "text": [
      "Extracting ../MNIST/MNIST_data/train-images-idx3-ubyte.gz\n",
      "Extracting ../MNIST/MNIST_data/train-labels-idx1-ubyte.gz\n",
      "Extracting ../MNIST/MNIST_data/t10k-images-idx3-ubyte.gz\n",
      "Extracting ../MNIST/MNIST_data/t10k-labels-idx1-ubyte.gz\n"
     ]
    }
   ],
   "source": [
    "mnist = input_data.read_data_sets(\"../MNIST/MNIST_data/\", one_hot=True)"
   ]
  },
  {
   "cell_type": "code",
   "execution_count": 3,
   "metadata": {},
   "outputs": [
    {
     "data": {
      "text/plain": [
       "<matplotlib.image.AxesImage at 0xf0c6d30>"
      ]
     },
     "execution_count": 3,
     "metadata": {},
     "output_type": "execute_result"
    },
    {
     "data": {
      "image/png": "[encoded data removed]",
      "text/plain": [
       "<matplotlib.figure.Figure at 0xf0c6cf8>"
      ]
     },
     "metadata": {},
     "output_type": "display_data"
    }
   ],
   "source": [
    "# get a random image from the MNIST data\n",
    "id = np.random.randint(1000)\n",
    "image = mnist.train.images[id:id+1]\n",
    "\n",
    "# display the image\n",
    "plt.tick_params( axis='both', which='both', bottom='off', left='off', labelbottom='off', labelleft='off' )\n",
    "plt.imshow(image.reshape(28,28), cmap='gray')\n",
    "# append '_r' to cmap for reversed color map"
   ]
  },
  {
   "cell_type": "code",
   "execution_count": 4,
   "metadata": {},
   "outputs": [],
   "source": [
    "# we know that all the image are 28 by 28\n",
    "# this is the input placeholder to provide data to our network\n",
    "x = tf.placeholder(tf.float32, [None,28*28])"
   ]
  },
  {
   "cell_type": "code",
   "execution_count": 5,
   "metadata": {
    "collapsed": true
   },
   "outputs": [],
   "source": [
    "# create a session\n",
    "sess = tf.InteractiveSession()"
   ]
  },
  {
   "cell_type": "code",
   "execution_count": 6,
   "metadata": {
    "collapsed": true
   },
   "outputs": [],
   "source": [
    "# Reshape the image to use in a convolutional network\n",
    "xshaped = tf.reshape(x, [-1,28,28,1])"
   ]
  },
  {
   "cell_type": "code",
   "execution_count": 7,
   "metadata": {},
   "outputs": [
    {
     "data": {
      "text/plain": [
       "(1, 28, 28, 1)"
      ]
     },
     "execution_count": 7,
     "metadata": {},
     "output_type": "execute_result"
    }
   ],
   "source": [
    "# this is reshaped image\n",
    "out = sess.run(xshaped, feed_dict={x:image}) \n",
    "out.shape"
   ]
  },
  {
   "cell_type": "code",
   "execution_count": 8,
   "metadata": {},
   "outputs": [],
   "source": [
    "# how many features do we want to extract from the image\n",
    "# each feature is an image with a filter applied to it\n",
    "features = 5\n",
    "# weights\n",
    "W = tf.Variable( tf.truncated_normal([5,5,1,features], stddev=0.1))\n",
    "# biases\n",
    "b = tf.Variable( tf.constant(0.1, shape=[features]) )\n",
    "# first 2 dimensions are patch size (5x5)\n",
    "#   filters are applied to a section of the image (denoted by the patch size)\n",
    "#   the section is then moved in the image by some value (denoted by a stride)\n",
    "# next is number of input channels (we are only using 1 'greyscale')\n",
    "#   this could also be the number of features coming from previous convolutional layer\n",
    "# next is number of output channels or features"
   ]
  },
  {
   "cell_type": "code",
   "execution_count": 9,
   "metadata": {
    "collapsed": true
   },
   "outputs": [],
   "source": [
    "# initialize the variables\n",
    "sess.run(tf.global_variables_initializer())"
   ]
  },
  {
   "cell_type": "code",
   "execution_count": 10,
   "metadata": {
    "collapsed": true
   },
   "outputs": [],
   "source": [
    "# create a convolutional layer\n",
    "# stride denotes how patch (defined above) is moved in the image\n",
    "# truncate the bottom of the output (<0 = 0) with relu (rectified linear unit)\n",
    "conv1 = tf.nn.relu(tf.nn.conv2d(xshaped, W, strides=[1,1,1,1], padding='SAME') + b)"
   ]
  },
  {
   "cell_type": "code",
   "execution_count": 11,
   "metadata": {},
   "outputs": [
    {
     "name": "stdout",
     "output_type": "stream",
     "text": [
      "0.0 0.97853\n"
     ]
    },
    {
     "data": {
      "text/plain": [
       "(1, 28, 28, 5)"
      ]
     },
     "execution_count": 11,
     "metadata": {},
     "output_type": "execute_result"
    }
   ],
   "source": [
    "out = sess.run(conv1, feed_dict={x:image}) # this is convoluted image\n",
    "print( out.min(), out.max() )\n",
    "out.shape\n",
    "# last dimension is the number of output channels in W\n",
    "# (1,image width, image height, output channels / features)"
   ]
  },
  {
   "cell_type": "code",
   "execution_count": 12,
   "metadata": {},
   "outputs": [
    {
     "data": {
      "image/png": "[encoded data removed]",
      "text/plain": [
       "<matplotlib.figure.Figure at 0xf29d780>"
      ]
     },
     "metadata": {},
     "output_type": "display_data"
    }
   ],
   "source": [
    "# Let see how all the features look like ...\n",
    "# split the array to images with different features\n",
    "img = np.dsplit(out[0], features)\n",
    "width = out.shape[1]\n",
    "height = out.shape[2]\n",
    "# display the different features as images\n",
    "plt.figure( figsize=( 14,10 ) )\n",
    "for i in range( features ):\n",
    "    plt.subplot(1, 5, i+1)\n",
    "    plt.tick_params( axis='both', which='both', bottom='off', left='off', labelbottom='off', labelleft='off' )\n",
    "    plt.imshow(img[i].reshape(width, height), cmap='gray')"
   ]
  },
  {
   "cell_type": "code",
   "execution_count": 13,
   "metadata": {},
   "outputs": [],
   "source": [
    "# Create a pooling layer\n",
    "#   a pooling layer is used to reduce the size of the inputs going forward in the network.\n",
    "#   with a convolutional layer the size has already risen by a factor of feature count.\n",
    "# this esssentially scales down all the images/features by a factor\n",
    "scale_factor = 2\n",
    "# add the pooling layer to the graph\n",
    "pool1 = tf.nn.max_pool( conv1, ksize=[1,scale_factor,scale_factor,1], strides=[1,scale_factor,scale_factor,1], padding='SAME' )"
   ]
  },
  {
   "cell_type": "code",
   "execution_count": 14,
   "metadata": {},
   "outputs": [
    {
     "data": {
      "text/plain": [
       "(1, 14, 14, 5)"
      ]
     },
     "execution_count": 14,
     "metadata": {},
     "output_type": "execute_result"
    }
   ],
   "source": [
    "# run the pooling layer\n",
    "out = sess.run(pool1, feed_dict={x:image})\n",
    "out.shape\n",
    "# the middle 2 dimensions have reduced by half"
   ]
  },
  {
   "cell_type": "code",
   "execution_count": 15,
   "metadata": {},
   "outputs": [
    {
     "data": {
      "image/png": "[encoded data removed]",
      "text/plain": [
       "<matplotlib.figure.Figure at 0xf2810f0>"
      ]
     },
     "metadata": {},
     "output_type": "display_data"
    }
   ],
   "source": [
    "# split the array to images with different features\n",
    "img = np.dsplit(out[0], features)\n",
    "width = out.shape[1]\n",
    "height = out.shape[2]\n",
    "# display the different features as images\n",
    "plt.figure( figsize=( 14,10 ) )\n",
    "for i in range( features ):\n",
    "    plt.subplot(1, 5, i+1)\n",
    "    plt.tick_params( axis='both', which='both', bottom='off', left='off', labelbottom='off', labelleft='off' )\n",
    "    plt.imshow(img[i].reshape(width, height), cmap='gray')"
   ]
  },
  {
   "cell_type": "code",
   "execution_count": 16,
   "metadata": {
    "collapsed": true
   },
   "outputs": [],
   "source": [
    "# Most of the graphs attach another convolution and pooling layer\n",
    "# then the graph is attached to a fully connected layer"
   ]
  }
 ],
 "metadata": {
  "kernelspec": {
   "display_name": "Python 3",
   "language": "python",
   "name": "python3"
  },
  "language_info": {
   "codemirror_mode": {
    "name": "ipython",
    "version": 3
   },
   "file_extension": ".py",
   "mimetype": "text/x-python",
   "name": "python",
   "nbconvert_exporter": "python",
   "pygments_lexer": "ipython3",
   "version": "3.5.4"
  }
 },
 "nbformat": 4,
 "nbformat_minor": 2
}
